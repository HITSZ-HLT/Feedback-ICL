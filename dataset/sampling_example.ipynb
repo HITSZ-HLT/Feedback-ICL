{
 "cells": [
  {
   "cell_type": "code",
   "execution_count": null,
   "metadata": {},
   "outputs": [],
   "source": [
    "import pandas as pd\n",
    "pool_size = 300 # candidate example pool"
   ]
  },
  {
   "cell_type": "code",
   "execution_count": null,
   "metadata": {},
   "outputs": [],
   "source": [
    "# config\n",
    "task = 'ATSC'\n",
    "dataset = 'rest'\n",
    "train_idx = 1  # 1, 2, 3\n",
    "seed = 75  # different seeds for different train_idx"
   ]
  },
  {
   "cell_type": "code",
   "execution_count": null,
   "metadata": {},
   "outputs": [],
   "source": [
    "train_df = pd.read_csv(f'./{task}/{dataset}/train.csv')\n",
    "num_labels = len(train_df['label'].unique())\n",
    "examples_per_label = pool_size // num_labels"
   ]
  },
  {
   "cell_type": "code",
   "execution_count": null,
   "metadata": {},
   "outputs": [],
   "source": [
    "sample_df = train_df.groupby('label').apply(lambda x: x.sample(examples_per_label, random_state=seed))\n",
    "sample_df.to_csv(f'./{task}/{dataset}/train_{train_idx}.csv', index=False)"
   ]
  }
 ],
 "metadata": {
  "kernelspec": {
   "display_name": "Python 3",
   "language": "python",
   "name": "python3"
  },
  "language_info": {
   "codemirror_mode": {
    "name": "ipython",
    "version": 3
   },
   "file_extension": ".py",
   "mimetype": "text/x-python",
   "name": "python",
   "nbconvert_exporter": "python",
   "pygments_lexer": "ipython3",
   "version": "3.1.-1"
  }
 },
 "nbformat": 4,
 "nbformat_minor": 2
}
